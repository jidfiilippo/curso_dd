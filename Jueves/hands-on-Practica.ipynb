{
 "cells": [
  {
   "cell_type": "code",
   "execution_count": 1,
   "metadata": {},
   "outputs": [],
   "source": [
    "from rdkit import Chem\n",
    "from rdkit.Chem import rdFingerprintGenerator\n",
    "from rdkit import Chem, DataStructs\n",
    "from rdkit.Chem import AllChem, MACCSkeys, Descriptors, Descriptors3D, Draw, rdMolDescriptors, Draw, PandasTools\n",
    "from rdkit.DataManip.Metric.rdMetricMatrixCalc import GetTanimotoSimMat, GetTanimotoDistMat\n",
    "from rdkit.Chem.Draw import IPythonConsole\n",
    "from rdkit import DataStructs\n",
    "from rdkit.SimDivFilters.rdSimDivPickers import MaxMinPicker \n",
    "\n",
    "\n",
    "import progressbar\n",
    "from math import pi\n",
    "\n",
    "from rdkit import DataStructs\n",
    "from rdkit.SimDivFilters.rdSimDivPickers import MaxMinPicker \n",
    "import pandas as pd\n",
    "import matplotlib.cm as cm\n",
    "from matplotlib import pyplot as plt\n",
    "import seaborn as sns\n",
    "import numpy as np\n"
   ]
  },
  {
   "cell_type": "markdown",
   "metadata": {},
   "source": [
    "# 1) Leer la base de datos como un dataframe\n",
    "\n",
    "La base se llama database.txt"
   ]
  },
  {
   "cell_type": "code",
   "execution_count": null,
   "metadata": {},
   "outputs": [],
   "source": []
  },
  {
   "cell_type": "markdown",
   "metadata": {},
   "source": [
    "#  2)Representar algunas moleculas al azar en una imagen"
   ]
  },
  {
   "cell_type": "markdown",
   "metadata": {},
   "source": [
    "Sugerencia: \n",
    "1) Usar df.sample(N) para generar un set random de N moleculas\n",
    "2) investigar como representar en un grid las moleculas con PandasTools.AddMoleculeColumnToFrame y PandasTools.FrameToGridImage"
   ]
  },
  {
   "cell_type": "code",
   "execution_count": null,
   "metadata": {},
   "outputs": [],
   "source": []
  },
  {
   "cell_type": "markdown",
   "metadata": {},
   "source": [
    "# 3)Creamos un dataframe con toda la informaciópn para comenzar a trabajar"
   ]
  },
  {
   "cell_type": "markdown",
   "metadata": {},
   "source": [
    "## El Dataframe debe tener las columnas: \"Smiles\", \"id\" y \"Structure\"\n",
    "### Sugerencia: \n",
    "Crear una lista con los smiles para calcular las estructuras moleculares con chem.MolFromSmiles y Chem.AddHs.\n",
    "La lista se puede crear con: list(df[\"Columna\"])"
   ]
  },
  {
   "cell_type": "code",
   "execution_count": null,
   "metadata": {},
   "outputs": [],
   "source": []
  },
  {
   "cell_type": "markdown",
   "metadata": {},
   "source": [
    "# 4) Calculamr descriptores 1D para comenzar a filtrar la base.\n",
    "Para esto se puede usar Descriptors de RD Kit. \n",
    "Sugencia: Para integrar los descriptores en el dataframe de manera eficiente, armar un interable del tipo:\n",
    "```\n",
    "for i,smil in enumerate(dataframe[\"smiles\"]):\n",
    "\n",
    "    mol = Chem.MolFromSmiles(smil) \n",
    "    df2.loc[i,'Nombre_de_columna']= Dato a adicionar\n",
    "\n",
    "    etc\n",
    "```"
   ]
  },
  {
   "cell_type": "code",
   "execution_count": null,
   "metadata": {},
   "outputs": [],
   "source": []
  },
  {
   "cell_type": "markdown",
   "metadata": {},
   "source": [
    "# 5) Calcular histogramas de los descriptores\n",
    "\n",
    "Calcular los histogramas para tener nocion de la distribucion de los descriptores. Pueden usar df[\"Columna\"].hist"
   ]
  },
  {
   "cell_type": "code",
   "execution_count": null,
   "metadata": {},
   "outputs": [],
   "source": []
  },
  {
   "cell_type": "markdown",
   "metadata": {},
   "source": [
    "# 6) Filtramos la base usando la reglas de lippinski\n",
    "\n"
   ]
  },
  {
   "cell_type": "code",
   "execution_count": null,
   "metadata": {},
   "outputs": [],
   "source": []
  },
  {
   "cell_type": "markdown",
   "metadata": {},
   "source": [
    "# 7) Filtrar la base para eliminar las estructuras no deseadas\n",
    "## Las estructuras no deseadas se encuentran en el archivo no_deseadas.txt. \n",
    "Usar la logica de SMARTS de rdkit\n",
    "\n",
    "Sugerencia: Ver https://projects.volkamerlab.org/teachopencadd/talktorials/T003_compound_unwanted_substructures.html"
   ]
  },
  {
   "cell_type": "code",
   "execution_count": null,
   "metadata": {},
   "outputs": [],
   "source": []
  },
  {
   "cell_type": "markdown",
   "metadata": {},
   "source": [
    "# 8) Calcular tanimoto para 10 subsets randoms pequeños"
   ]
  },
  {
   "cell_type": "code",
   "execution_count": null,
   "metadata": {},
   "outputs": [],
   "source": []
  }
 ],
 "metadata": {
  "kernelspec": {
   "display_name": "Python 3 (ipykernel)",
   "language": "python",
   "name": "python3"
  },
  "language_info": {
   "codemirror_mode": {
    "name": "ipython",
    "version": 3
   },
   "file_extension": ".py",
   "mimetype": "text/x-python",
   "name": "python",
   "nbconvert_exporter": "python",
   "pygments_lexer": "ipython3",
   "version": "3.8.10"
  }
 },
 "nbformat": 4,
 "nbformat_minor": 4
}
